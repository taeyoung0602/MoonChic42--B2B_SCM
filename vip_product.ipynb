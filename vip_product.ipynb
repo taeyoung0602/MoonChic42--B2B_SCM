{
 "cells": [
  {
   "cell_type": "code",
   "execution_count": 7,
   "id": "479e8632-5275-447f-8a4c-fd2a0ebedc4d",
   "metadata": {},
   "outputs": [
    {
     "name": "stdout",
     "output_type": "stream",
     "text": [
      "\n",
      "🎯 VIP 고객 정보 (상위 5명):\n",
      "+--------+--------------+-----------------+-----------+---------+\n",
      "|        | Customer_Age | Customer_Gender |  Country  | Revenue |\n",
      "+--------+--------------+-----------------+-----------+---------+\n",
      "| 112073 |      52      |        M        | Australia |  58074  |\n",
      "| 112072 |      52      |        M        | Australia |  54069  |\n",
      "| 71129  |      22      |        M        |  Canada   |  14312  |\n",
      "| 59919  |      29      |        F        |  Germany  |  14169  |\n",
      "| 68671  |      26      |        M        |  Canada   |  14169  |\n",
      "+--------+--------------+-----------------+-----------+---------+\n",
      "\n",
      "🔥 가장 많이 판매된 제품 TOP 5:\n",
      "+---+-----------------------+-------------+\n",
      "|   |        Product        | Sales Count |\n",
      "+---+-----------------------+-------------+\n",
      "| 1 | Water Bottle - 30 oz. |    10794    |\n",
      "| 2 |  Patch Kit/8 Patches  |    10416    |\n",
      "| 3 |  Mountain Tire Tube   |    6816     |\n",
      "| 4 |     AWC Logo Cap      |    4358     |\n",
      "| 5 | Sport-100 Helmet, Red |    4220     |\n",
      "+---+-----------------------+-------------+\n"
     ]
    }
   ],
   "source": [
    "!pip install tabulate\n",
    "\n",
    "import pandas as pd\n",
    "from tabulate import tabulate  # 표 형태로 출력\n",
    "\n",
    "# CSV 파일 불러오기\n",
    "file_path = \"sales_data.csv\"\n",
    "df = pd.read_csv(file_path)\n",
    "\n",
    "# 결측값 제거 (NaN 값 삭제)\n",
    "df = df.dropna()\n",
    "\n",
    "# 🎯 VIP 고객 찾기 (매출 기준 상위 5명)\n",
    "vip_customers = df.nlargest(5, 'Revenue')\n",
    "\n",
    "# 🔥 가장 많이 판매된 제품 TOP 5 찾기\n",
    "top_5_products = df['Product'].value_counts().head(5).reset_index()\n",
    "top_5_products.columns = ['Product', 'Sales Count']\n",
    "\n",
    "# ✅ 결과 출력\n",
    "print(\"\\n🎯 VIP 고객 정보 (상위 5명):\")\n",
    "print(tabulate(vip_customers[['Customer_Age', 'Customer_Gender', 'Country', 'Revenue']], \n",
    "               headers='keys', tablefmt='pretty'))\n",
    "\n",
    "# 🔥 가장 많이 판매된 제품 TOP 5:\n",
    "top_5_products.index = range(1, len(top_5_products) + 1)  # 인덱스를 1부터 시작하도록 설정\n",
    "print(\"\\n🔥 가장 많이 판매된 제품 TOP 5:\")\n",
    "print(tabulate(top_5_products, headers='keys', tablefmt='pretty'))\n"
   ]
  },
  {
   "cell_type": "code",
   "execution_count": 5,
   "id": "a853844e-9995-4945-8d50-fd645072cf10",
   "metadata": {},
   "outputs": [
    {
     "name": "stdout",
     "output_type": "stream",
     "text": [
      "Collecting tabulate\n",
      "  Using cached tabulate-0.9.0-py3-none-any.whl.metadata (34 kB)\n",
      "Using cached tabulate-0.9.0-py3-none-any.whl (35 kB)\n",
      "Installing collected packages: tabulate\n",
      "Successfully installed tabulate-0.9.0\n"
     ]
    }
   ],
   "source": [
    "\n",
    "\n",
    "\n"
   ]
  },
  {
   "cell_type": "code",
   "execution_count": null,
   "id": "15310019-bd93-45e7-9298-dd6a8bc57c9f",
   "metadata": {},
   "outputs": [],
   "source": []
  }
 ],
 "metadata": {
  "kernelspec": {
   "display_name": "Python 3 (ipykernel)",
   "language": "python",
   "name": "python3"
  },
  "language_info": {
   "codemirror_mode": {
    "name": "ipython",
    "version": 3
   },
   "file_extension": ".py",
   "mimetype": "text/x-python",
   "name": "python",
   "nbconvert_exporter": "python",
   "pygments_lexer": "ipython3",
   "version": "3.12.3"
  }
 },
 "nbformat": 4,
 "nbformat_minor": 5
}
